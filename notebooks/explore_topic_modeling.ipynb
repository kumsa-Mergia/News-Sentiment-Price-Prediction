{
 "cells": [
  {
   "cell_type": "code",
   "execution_count": 1,
   "id": "61e076b4",
   "metadata": {},
   "outputs": [],
   "source": [
    "import sys\n",
    "import os\n",
    "sys.path.append(os.path.abspath('../src'))"
   ]
  },
  {
   "cell_type": "code",
   "execution_count": 3,
   "id": "12439b8d",
   "metadata": {},
   "outputs": [],
   "source": [
    "from news_topic_modeler import AnalystHeadlineTopicModeler"
   ]
  },
  {
   "cell_type": "markdown",
   "id": "77f05534",
   "metadata": {},
   "source": [
    "# Initialize your topic modeler with path and target stocks"
   ]
  },
  {
   "cell_type": "code",
   "execution_count": 4,
   "id": "f512c4d1",
   "metadata": {},
   "outputs": [],
   "source": [
    "modeler = AnalystHeadlineTopicModeler(\n",
    "    filepath = \"../Data/raw_analyst_ratings/raw_analyst_ratings.csv\",\n",
    "    target_stocks = ['MSF', 'AAPL', 'AMZN', 'GOOG', 'GOOGL', 'FB', 'NVDA'],\n",
    "    n_topics=5)"
   ]
  },
  {
   "cell_type": "markdown",
   "id": "395e2491",
   "metadata": {},
   "source": [
    "# Run the model pipeline and get the document-term matrix"
   ]
  },
  {
   "cell_type": "code",
   "execution_count": 5,
   "id": "cca9652e",
   "metadata": {},
   "outputs": [
    {
     "name": "stdout",
     "output_type": "stream",
     "text": [
      "Loading and filtering data...\n",
      "Filtered rows: 7035\n",
      "Preprocessing headlines...\n",
      "Vectorizing text...\n",
      "Fitting LDA model...\n",
      "Extracting topics...\n",
      "Displaying topics...\n",
      "\n",
      "Topic 1: nvidia, market, says, google, benzingas, amd, shares, update, new, stock\n",
      "\n",
      "Topic 2: stocks, week, companies, coronavirus, trading, watch, shares, lower, apple, amid\n",
      "\n",
      "Topic 3: target, nvidia, price, maintains, raises, buy, alphabet, morgan, outperform, update\n",
      "\n",
      "Topic 4: google, stocks, session, moving, premarket, nvidia, cloud, data, earnings, option\n",
      "\n",
      "Topic 5: shares, nvidia, earnings, trading, alphabet, higher, sales, google, stocks, says\n"
     ]
    },
    {
     "data": {
      "text/plain": [
       "<7035x4501 sparse matrix of type '<class 'numpy.int64'>'\n",
       "\twith 57215 stored elements in Compressed Sparse Row format>"
      ]
     },
     "execution_count": 5,
     "metadata": {},
     "output_type": "execute_result"
    }
   ],
   "source": [
    "modeler.run()"
   ]
  }
 ],
 "metadata": {
  "kernelspec": {
   "display_name": "venv",
   "language": "python",
   "name": "python3"
  },
  "language_info": {
   "codemirror_mode": {
    "name": "ipython",
    "version": 3
   },
   "file_extension": ".py",
   "mimetype": "text/x-python",
   "name": "python",
   "nbconvert_exporter": "python",
   "pygments_lexer": "ipython3",
   "version": "3.12.3"
  }
 },
 "nbformat": 4,
 "nbformat_minor": 5
}
